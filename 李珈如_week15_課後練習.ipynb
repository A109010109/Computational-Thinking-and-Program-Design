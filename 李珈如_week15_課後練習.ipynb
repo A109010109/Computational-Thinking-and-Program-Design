{
  "nbformat": 4,
  "nbformat_minor": 0,
  "metadata": {
    "colab": {
      "name": "李珈如-week15-課後練習",
      "provenance": [],
      "authorship_tag": "ABX9TyNV6xCNMnmqDPv4yO2fj90n",
      "include_colab_link": true
    },
    "kernelspec": {
      "name": "python3",
      "display_name": "Python 3"
    },
    "language_info": {
      "name": "python"
    }
  },
  "cells": [
    {
      "cell_type": "markdown",
      "metadata": {
        "id": "view-in-github",
        "colab_type": "text"
      },
      "source": [
        "<a href=\"https://colab.research.google.com/github/A109010109/Computational-Thinking-and-Program-Design/blob/main/%E6%9D%8E%E7%8F%88%E5%A6%82_week15_%E8%AA%B2%E5%BE%8C%E7%B7%B4%E7%BF%92.ipynb\" target=\"_parent\"><img src=\"https://colab.research.google.com/assets/colab-badge.svg\" alt=\"Open In Colab\"/></a>"
      ]
    },
    {
      "cell_type": "code",
      "metadata": {
        "colab": {
          "base_uri": "https://localhost:8080/"
        },
        "id": "w-mdsjxL6g5L",
        "outputId": "e9d2f644-aa40-439e-9481-a63d70b7947d"
      },
      "source": [
        "my_choice = int(input(\"出拳 0.剪刀 1.石頭 2.布 \"))\n",
        "print(\"你出的:\", my_choice)\n",
        "import random\n",
        "com_choice = random.randint(0, 2)\n",
        "print(\"電腦出的\", com_choice)\n",
        "# 後⾯勝前⾯，其他平⼿\n",
        "if my_choice == (com_choice + 1) % 3:\n",
        "  print(\"我贏了\")\n",
        "\n",
        "elif com_choice == (my_choice + 1) % 3:\n",
        "  print(\"電腦贏了\")\n",
        "\n",
        "else:\n",
        "  print(\"平⼿\")\n"
      ],
      "execution_count": 3,
      "outputs": [
        {
          "output_type": "stream",
          "text": [
            "出拳 0.剪刀 1.石頭 2.布 2\n",
            "你出的: 2\n",
            "電腦出的 0\n",
            "電腦贏了\n"
          ],
          "name": "stdout"
        }
      ]
    },
    {
      "cell_type": "code",
      "metadata": {
        "id": "duIes19d7AvK"
      },
      "source": [
        ""
      ],
      "execution_count": null,
      "outputs": []
    }
  ]
}