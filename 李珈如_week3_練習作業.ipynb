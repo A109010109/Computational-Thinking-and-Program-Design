{
  "nbformat": 4,
  "nbformat_minor": 0,
  "metadata": {
    "colab": {
      "name": "李珈如-week3-練習作業.jpynb",
      "provenance": [],
      "collapsed_sections": [],
      "authorship_tag": "ABX9TyNueaWS1zMkiZrN66pCHWBB",
      "include_colab_link": true
    },
    "kernelspec": {
      "name": "python3",
      "display_name": "Python 3"
    }
  },
  "cells": [
    {
      "cell_type": "markdown",
      "metadata": {
        "id": "view-in-github",
        "colab_type": "text"
      },
      "source": [
        "<a href=\"https://colab.research.google.com/github/A109010109/Computational-Thinking-and-Program-Design/blob/main/%E6%9D%8E%E7%8F%88%E5%A6%82_week3_%E7%B7%B4%E7%BF%92%E4%BD%9C%E6%A5%AD.ipynb\" target=\"_parent\"><img src=\"https://colab.research.google.com/assets/colab-badge.svg\" alt=\"Open In Colab\"/></a>"
      ]
    },
    {
      "cell_type": "code",
      "metadata": {
        "id": "K1GpljZ_fk_r",
        "colab": {
          "base_uri": "https://localhost:8080/"
        },
        "outputId": "03c3db78-c187-4e23-9f67-7ea47906d21b"
      },
      "source": [
        "print(1+1)"
      ],
      "execution_count": 1,
      "outputs": [
        {
          "output_type": "stream",
          "text": [
            "2\n"
          ],
          "name": "stdout"
        }
      ]
    },
    {
      "cell_type": "code",
      "metadata": {
        "colab": {
          "base_uri": "https://localhost:8080/"
        },
        "id": "OwLJAqO1iAWM",
        "outputId": "b3005988-3fbb-4a8a-c4b8-dd5f243a01d4"
      },
      "source": [
        "print(\"Hello\")"
      ],
      "execution_count": 2,
      "outputs": [
        {
          "output_type": "stream",
          "text": [
            "Hello\n"
          ],
          "name": "stdout"
        }
      ]
    },
    {
      "cell_type": "code",
      "metadata": {
        "id": "euCmVrbXiDwk"
      },
      "source": [
        ""
      ],
      "execution_count": null,
      "outputs": []
    },
    {
      "cell_type": "markdown",
      "metadata": {
        "id": "ecbX5d-ViEGE"
      },
      "source": [
        "week3作業"
      ]
    },
    {
      "cell_type": "code",
      "metadata": {
        "id": "JOZGuHH2iFlO"
      },
      "source": [
        ""
      ],
      "execution_count": null,
      "outputs": []
    }
  ]
}