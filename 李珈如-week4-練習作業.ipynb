{
  "nbformat": 4,
  "nbformat_minor": 0,
  "metadata": {
    "colab": {
      "name": "「「李珈如-week4-練習作業」的副本」的副本",
      "provenance": [],
      "collapsed_sections": [],
      "authorship_tag": "ABX9TyM1LdVyrdtp3op5Nmd1lIuS",
      "include_colab_link": true
    },
    "kernelspec": {
      "name": "python3",
      "display_name": "Python 3"
    }
  },
  "cells": [
    {
      "cell_type": "markdown",
      "metadata": {
        "id": "view-in-github",
        "colab_type": "text"
      },
      "source": [
        "<a href=\"https://colab.research.google.com/github/A109010109/Computational-Thinking-and-Program-Design/blob/main/%E6%9D%8E%E7%8F%88%E5%A6%82-week4-%E7%B7%B4%E7%BF%92%E4%BD%9C%E6%A5%AD.ipynb\" target=\"_parent\"><img src=\"https://colab.research.google.com/assets/colab-badge.svg\" alt=\"Open In Colab\"/></a>"
      ]
    },
    {
      "cell_type": "code",
      "metadata": {
        "id": "6cDsoyl4VKgl"
      },
      "source": [
        ""
      ],
      "execution_count": null,
      "outputs": []
    },
    {
      "cell_type": "markdown",
      "metadata": {
        "id": "mLX1_zujVMy0"
      },
      "source": [
        "# 隨堂練習"
      ]
    },
    {
      "cell_type": "markdown",
      "metadata": {
        "id": "t5NDRx57VdOv"
      },
      "source": [
        "##隨堂練習"
      ]
    },
    {
      "cell_type": "markdown",
      "metadata": {
        "id": "5XEkTcykVlUL"
      },
      "source": [
        "###隨堂練習"
      ]
    },
    {
      "cell_type": "code",
      "metadata": {
        "id": "SFPvntCKVgDw"
      },
      "source": [
        ""
      ],
      "execution_count": null,
      "outputs": []
    },
    {
      "cell_type": "markdown",
      "metadata": {
        "id": "fPypEmZLWpul"
      },
      "source": [
        "#課後練習\n",
        "(https://www.managertoday.com.tw/articles/view/55799)\n",
        "###我認為運算思維對未來進入新聞產業最大的幫助為做事**更有邏輯性、更有效率**。就像文章所說，透過學習運算思維，我們可以學習在寫程式的過程，**拆解問題並且思考如何一步一步地得出答案**。透過學習運算思維與程式設計，也可以在未來職場中，對於**數據圖表類型新聞**能夠有所幫助，目前大多新聞業者都是取用網路溫度計等大數據公司的資料，得到這些資料勢必一定要有成本的支出，若是能夠習得此一技能，不但在職場上能夠**脫穎而出**，也為自己創造了**不可取代性**。"
      ]
    },
    {
      "cell_type": "code",
      "metadata": {
        "colab": {
          "base_uri": "https://localhost:8080/"
        },
        "id": "bhqGFL45WtYc",
        "outputId": "2bb1600b-c259-4d61-deed-5eb6fa5435e1"
      },
      "source": [
        "print(2+3)"
      ],
      "execution_count": 1,
      "outputs": [
        {
          "output_type": "stream",
          "text": [
            "5\n"
          ],
          "name": "stdout"
        }
      ]
    },
    {
      "cell_type": "code",
      "metadata": {
        "colab": {
          "base_uri": "https://localhost:8080/"
        },
        "id": "HVrPFUg3_Xe0",
        "outputId": "b638ce29-28dd-4fd6-bc0d-a47bcfff178a"
      },
      "source": [
        "print('HELLO')"
      ],
      "execution_count": 3,
      "outputs": [
        {
          "output_type": "stream",
          "text": [
            "HELLO\n"
          ],
          "name": "stdout"
        }
      ]
    },
    {
      "cell_type": "code",
      "metadata": {
        "id": "5W8UZKet_pB0"
      },
      "source": [
        ""
      ],
      "execution_count": null,
      "outputs": []
    }
  ]
}